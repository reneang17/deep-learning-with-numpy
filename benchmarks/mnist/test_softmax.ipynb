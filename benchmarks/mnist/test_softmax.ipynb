{
 "cells": [
  {
   "cell_type": "code",
   "execution_count": 3,
   "metadata": {},
   "outputs": [],
   "source": [
    "import numpy as np\n",
    "import sys\n",
    "sys.path.append('../../network')\n",
    "from activation_functions import Softmax"
   ]
  },
  {
   "cell_type": "code",
   "execution_count": 4,
   "metadata": {},
   "outputs": [
    {
     "data": {
      "text/plain": [
       "(5, 3)"
      ]
     },
     "execution_count": 4,
     "metadata": {},
     "output_type": "execute_result"
    }
   ],
   "source": [
    "test_matrix = np.random.rand(5,3)\n",
    "test_matrix.shape"
   ]
  },
  {
   "cell_type": "code",
   "execution_count": 5,
   "metadata": {},
   "outputs": [],
   "source": [
    "soft = Softmax()"
   ]
  },
  {
   "cell_type": "code",
   "execution_count": 6,
   "metadata": {},
   "outputs": [
    {
     "data": {
      "text/plain": [
       "(array([[1., 1., 1.]]), (1, 3), True, (5, 3))"
      ]
     },
     "execution_count": 6,
     "metadata": {},
     "output_type": "execute_result"
    }
   ],
   "source": [
    "answer = soft(test_matrix) \n",
    "np.sum(answer,axis = 0, keepdims=True), np.sum(answer,axis = 0, keepdims=True).shape, \\\n",
    "(answer.shape) == test_matrix.shape, test_matrix.shape "
   ]
  },
  {
   "cell_type": "code",
   "execution_count": 7,
   "metadata": {},
   "outputs": [
    {
     "data": {
      "text/plain": [
       "(5, 5, 3)"
      ]
     },
     "execution_count": 7,
     "metadata": {},
     "output_type": "execute_result"
    }
   ],
   "source": [
    "soft.gradient(test_matrix).shape"
   ]
  },
  {
   "cell_type": "code",
   "execution_count": 8,
   "metadata": {
    "scrolled": true
   },
   "outputs": [
    {
     "data": {
      "text/plain": [
       "array([[ True,  True,  True],\n",
       "       [ True,  True,  True],\n",
       "       [ True,  True,  True],\n",
       "       [ True,  True,  True],\n",
       "       [ True,  True,  True]])"
      ]
     },
     "execution_count": 8,
     "metadata": {},
     "output_type": "execute_result"
    }
   ],
   "source": [
    "Delta= 0.000000001\n",
    "displaced = np.zeros(test_matrix.shape)\n",
    "displaced[:,:] = test_matrix\n",
    "displaced[np.arange(0,1), :] =displaced[np.arange(0,1), :]  + Delta\n",
    "((soft(displaced) -  soft(test_matrix)  )/Delta  ) [:,:]- \\\n",
    "( soft.gradient(test_matrix)   )[:,0,:] < 0.0000001"
   ]
  },
  {
   "cell_type": "code",
   "execution_count": 9,
   "metadata": {},
   "outputs": [
    {
     "data": {
      "text/plain": [
       "array([[ True,  True,  True],\n",
       "       [ True,  True,  True],\n",
       "       [ True,  True,  True],\n",
       "       [ True,  True,  True],\n",
       "       [ True,  True,  True]])"
      ]
     },
     "execution_count": 9,
     "metadata": {},
     "output_type": "execute_result"
    }
   ],
   "source": [
    "Delta= 0.000000001\n",
    "displaced = np.zeros(test_matrix.shape)\n",
    "displaced[:,:] = test_matrix\n",
    "displaced[np.arange(2,3), :] =displaced[np.arange(2,3), :]  + Delta\n",
    "((soft(displaced) -  soft(test_matrix)  )/Delta  ) [:,:]- \\\n",
    "( soft.gradient(test_matrix)   )[:,2,:] < 0.0000001"
   ]
  },
  {
   "cell_type": "code",
   "execution_count": 10,
   "metadata": {},
   "outputs": [],
   "source": [
    "from loss_functions import MultiClassCrossEntropy"
   ]
  },
  {
   "cell_type": "code",
   "execution_count": 11,
   "metadata": {},
   "outputs": [],
   "source": [
    "import numpy as np\n",
    "nb_classes = 5\n",
    "n_batch = 3\n",
    "targets = np.array([[0, n_batch,0]]).reshape(-1)\n",
    "one_hot_targets = np.eye(nb_classes)[targets].T\n",
    "test_AL = soft(np.random.random((nb_classes,n_batch)))"
   ]
  },
  {
   "cell_type": "code",
   "execution_count": 12,
   "metadata": {},
   "outputs": [
    {
     "data": {
      "text/plain": [
       "array([[1.29152877, 1.5175221 , 1.58453953]])"
      ]
     },
     "execution_count": 12,
     "metadata": {},
     "output_type": "execute_result"
    }
   ],
   "source": [
    "-np.sum(one_hot_targets * np.log(test_AL) ,axis= 0,keepdims=True) "
   ]
  },
  {
   "cell_type": "code",
   "execution_count": 13,
   "metadata": {},
   "outputs": [],
   "source": [
    "multi  = MultiClassCrossEntropy()"
   ]
  },
  {
   "cell_type": "code",
   "execution_count": 14,
   "metadata": {},
   "outputs": [
    {
     "data": {
      "text/plain": [
       "array([[-0.26164355,  0.07037374, -0.26645549],\n",
       "       [ 0.0630033 ,  0.06570425,  0.06948649],\n",
       "       [ 0.06605232,  0.06276548,  0.07258576],\n",
       "       [ 0.06088062, -0.26541886,  0.06275296],\n",
       "       [ 0.0717073 ,  0.06657538,  0.06163028]])"
      ]
     },
     "execution_count": 14,
     "metadata": {},
     "output_type": "execute_result"
    }
   ],
   "source": [
    "final = np.sum( np.multiply( multi.gradient(one_hot_targets , soft(test_AL) ),soft.gradient(test_AL) , \n",
    "                           ), axis=1)\n",
    "final"
   ]
  },
  {
   "cell_type": "code",
   "execution_count": 15,
   "metadata": {
    "scrolled": true
   },
   "outputs": [
    {
     "data": {
      "text/plain": [
       "array([[0.5122649 , 0.53029795, 0.53542508]])"
      ]
     },
     "execution_count": 15,
     "metadata": {},
     "output_type": "execute_result"
    }
   ],
   "source": [
    "multi.loss(one_hot_targets , soft(test_AL))"
   ]
  },
  {
   "cell_type": "code",
   "execution_count": 16,
   "metadata": {},
   "outputs": [],
   "source": [
    "from loss_functions import SoftmaxCrossEntropy"
   ]
  },
  {
   "cell_type": "code",
   "execution_count": 17,
   "metadata": {},
   "outputs": [
    {
     "data": {
      "text/plain": [
       "array([0.5122649 , 0.53029795, 0.53542508])"
      ]
     },
     "execution_count": 17,
     "metadata": {},
     "output_type": "execute_result"
    }
   ],
   "source": [
    "softmulti = SoftmaxCrossEntropy()\n",
    "softmulti.loss(one_hot_targets , test_AL)"
   ]
  },
  {
   "cell_type": "code",
   "execution_count": 18,
   "metadata": {},
   "outputs": [
    {
     "data": {
      "text/plain": [
       "array([[-0.26164355,  0.07037374, -0.26645549],\n",
       "       [ 0.0630033 ,  0.06570425,  0.06948649],\n",
       "       [ 0.06605232,  0.06276548,  0.07258576],\n",
       "       [ 0.06088062, -0.26541886,  0.06275296],\n",
       "       [ 0.0717073 ,  0.06657538,  0.06163028]])"
      ]
     },
     "execution_count": 18,
     "metadata": {},
     "output_type": "execute_result"
    }
   ],
   "source": [
    "softmulti.gradient(one_hot_targets , test_AL)"
   ]
  },
  {
   "cell_type": "code",
   "execution_count": 19,
   "metadata": {},
   "outputs": [
    {
     "data": {
      "text/plain": [
       "array([-0.26164348,  0.07037371, -0.26645552])"
      ]
     },
     "execution_count": 19,
     "metadata": {},
     "output_type": "execute_result"
    }
   ],
   "source": [
    "Delta= 0.000000001\n",
    "displaced = np.zeros(test_AL.shape)\n",
    "displaced[:,:] = test_AL\n",
    "displaced[np.arange(0,1), :] = displaced[np.arange(0,1), :]  + Delta\n",
    "(softmulti.loss(one_hot_targets , displaced) - softmulti.loss(one_hot_targets , test_AL))/Delta"
   ]
  },
  {
   "cell_type": "code",
   "execution_count": 20,
   "metadata": {},
   "outputs": [],
   "source": [
    "from layers import Activation_SoftMax"
   ]
  },
  {
   "cell_type": "code",
   "execution_count": 21,
   "metadata": {},
   "outputs": [],
   "source": [
    "actsoft = Activation_SoftMax()"
   ]
  },
  {
   "cell_type": "code",
   "execution_count": 22,
   "metadata": {},
   "outputs": [
    {
     "data": {
      "text/plain": [
       "array([[0.21506936, 0.21112123, 0.20063354],\n",
       "       [0.18900991, 0.19711276, 0.20845947],\n",
       "       [0.19815695, 0.18829645, 0.21775727],\n",
       "       [0.18264187, 0.20374341, 0.18825887],\n",
       "       [0.2151219 , 0.19972614, 0.18489085]])"
      ]
     },
     "execution_count": 22,
     "metadata": {},
     "output_type": "execute_result"
    }
   ],
   "source": [
    "actsoft.forward(test_AL)"
   ]
  },
  {
   "cell_type": "code",
   "execution_count": 23,
   "metadata": {},
   "outputs": [
    {
     "data": {
      "text/plain": [
       "array([[-0.26164355,  0.07037374, -0.26645549],\n",
       "       [ 0.0630033 ,  0.06570425,  0.06948649],\n",
       "       [ 0.06605232,  0.06276548,  0.07258576],\n",
       "       [ 0.06088062, -0.26541886,  0.06275296],\n",
       "       [ 0.0717073 ,  0.06657538,  0.06163028]])"
      ]
     },
     "execution_count": 23,
     "metadata": {},
     "output_type": "execute_result"
    }
   ],
   "source": [
    "actsoft.backward(multi.gradient(one_hot_targets , soft(test_AL) )) "
   ]
  },
  {
   "cell_type": "code",
   "execution_count": null,
   "metadata": {},
   "outputs": [],
   "source": []
  },
  {
   "cell_type": "code",
   "execution_count": null,
   "metadata": {},
   "outputs": [],
   "source": []
  }
 ],
 "metadata": {
  "celltoolbar": "Raw Cell Format",
  "kernelspec": {
   "display_name": "Python 3",
   "language": "python",
   "name": "python3"
  },
  "language_info": {
   "codemirror_mode": {
    "name": "ipython",
    "version": 3
   },
   "file_extension": ".py",
   "mimetype": "text/x-python",
   "name": "python",
   "nbconvert_exporter": "python",
   "pygments_lexer": "ipython3",
   "version": "3.7.1"
  }
 },
 "nbformat": 4,
 "nbformat_minor": 2
}
