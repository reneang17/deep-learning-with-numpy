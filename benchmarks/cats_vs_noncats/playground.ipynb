{
 "cells": [
  {
   "cell_type": "code",
   "execution_count": 1,
   "metadata": {},
   "outputs": [],
   "source": [
    "from main_class import *\n",
    "from layers import *\n",
    "from loss_functions import *"
   ]
  },
  {
   "cell_type": "code",
   "execution_count": 2,
   "metadata": {},
   "outputs": [
    {
     "name": "stdout",
     "output_type": "stream",
     "text": [
      "[[ 0.93781623 -0.35319773 -0.3049401 ]\n",
      " [-0.61947872  0.49964333 -1.32879399]\n",
      " [ 1.00736754 -0.43948301  0.18419731]\n",
      " [-0.14397405  0.84414841 -1.18942279]] \n",
      "\n",
      " [[-0.1612086  -0.19202718  0.56688472 -0.54994563]\n",
      " [-0.0862141  -0.43892921  0.02110687  0.29140761]\n",
      " [-0.55030959  0.57236185  0.45079536  0.25124717]\n",
      " [ 0.45042797 -0.34186393 -0.06144511 -0.46788472]\n",
      " [-0.13394404  0.26517773 -0.34583038 -0.19837676]\n",
      " [-0.34358635 -0.42260282 -0.33562307 -0.0063323 ]\n",
      " [-0.55865517  0.11720785  0.82990109  0.37102208]]\n"
     ]
    }
   ],
   "source": [
    "\n",
    "#Initialization debugged\n",
    "\n",
    "\n",
    "\n",
    "n_x = 3     # num_px * num_px * 3\n",
    "n_h1 = 4\n",
    "n_h2 = 7\n",
    "n_y = 1\n",
    "\n",
    "md=NeuralNetwork(CrossEntropy)\n",
    "np.random.seed(1)\n",
    "\n",
    "md.add(Dense(n_h1, input_shape=(n_x,), initializer = 'ng'))\n",
    "md.add(Activation('relu'))\n",
    "\n",
    "md.add(Dense(n_h2, initializer = 'ng'))\n",
    "md.add(Activation('relu'))\n",
    "\n",
    "md.add(Dense(n_y, initializer = 'ng'))\n",
    "md.add(Activation('sigmoid'))\n",
    "\n",
    "print(md.layers[0].W,'\\n\\n' , md.layers[2].W)\n",
    "#md.layers[2].W=np.array([[ 0.81217268, -0.30587821, -0.26408588, -0.53648431]])"
   ]
  },
  {
   "cell_type": "code",
   "execution_count": 3,
   "metadata": {},
   "outputs": [
    {
     "data": {
      "text/plain": [
       "array([[4.17022005e-01],\n",
       "       [7.20324493e-01],\n",
       "       [1.14374817e-04]])"
      ]
     },
     "execution_count": 3,
     "metadata": {},
     "output_type": "execute_result"
    }
   ],
   "source": [
    "np.random.seed(1)\n",
    "X= np.random.uniform(0, 1, (n_x,1))\n",
    "X"
   ]
  },
  {
   "cell_type": "code",
   "execution_count": 4,
   "metadata": {},
   "outputs": [
    {
     "data": {
      "text/plain": [
       "array([[0.48340483]])"
      ]
     },
     "execution_count": 4,
     "metadata": {},
     "output_type": "execute_result"
    }
   ],
   "source": [
    " AL=md._forward(X)\n",
    "AL"
   ]
  },
  {
   "cell_type": "code",
   "execution_count": 5,
   "metadata": {},
   "outputs": [
    {
     "data": {
      "text/plain": [
       "(0.7269008277074714, 0.0)"
      ]
     },
     "execution_count": 5,
     "metadata": {},
     "output_type": "execute_result"
    }
   ],
   "source": [
    "Y= np.array([[1]])\n",
    "\n",
    "md.train_on_batch(X,Y)"
   ]
  },
  {
   "cell_type": "code",
   "execution_count": 6,
   "metadata": {},
   "outputs": [
    {
     "data": {
      "text/plain": [
       "array([[ 0.        ,  0.        ,  0.        ,  0.        ],\n",
       "       [ 0.02368126,  0.01757697,  0.01794578,  0.09495585],\n",
       "       [ 0.01993361,  0.01479534,  0.0151058 ,  0.07992872],\n",
       "       [-0.        , -0.        , -0.        , -0.        ],\n",
       "       [-0.        , -0.        , -0.        , -0.        ],\n",
       "       [ 0.        ,  0.        ,  0.        ,  0.        ],\n",
       "       [-0.00509348, -0.00378054, -0.00385987, -0.02042356]])"
      ]
     },
     "execution_count": 6,
     "metadata": {},
     "output_type": "execute_result"
    }
   ],
   "source": [
    "md.layers[2].dW"
   ]
  },
  {
   "cell_type": "code",
   "execution_count": 7,
   "metadata": {},
   "outputs": [],
   "source": [
    "train_x=np.loadtxt('./data/train_x.csv', delimiter=\",\")\n",
    "train_y=np.loadtxt('./data/train_y.csv', delimiter=\",\")\n",
    "\n",
    "test_x=np.loadtxt('./data/test_x.csv', delimiter=\",\")\n",
    "test_y=np.loadtxt('./data/test_y.csv', delimiter=\",\")"
   ]
  },
  {
   "cell_type": "code",
   "execution_count": 8,
   "metadata": {},
   "outputs": [
    {
     "data": {
      "text/plain": [
       "((12288, 209), (209,))"
      ]
     },
     "execution_count": 8,
     "metadata": {},
     "output_type": "execute_result"
    }
   ],
   "source": [
    "train_x.shape, train_y.shape"
   ]
  },
  {
   "cell_type": "code",
   "execution_count": 9,
   "metadata": {},
   "outputs": [],
   "source": [
    "n_x = 12288     # num_px * num_px * 3\n",
    "n_ah1 = 20\n",
    "n_h2 = 7\n",
    "n_h3 = 5\n",
    "n_y = 1\n",
    "\n",
    "md=NeuralNetwork(CrossEntropy)\n",
    "np.random.seed(1)\n",
    "\n",
    "md.add(Dense(n_h1, input_shape=(n_x,), initializer = 'ng'))\n",
    "md.add(Activation('relu'))\n",
    "\n",
    "md.add(Dense(n_h2, initializer = 'ng'))\n",
    "md.add(Activation('relu'))\n",
    "\n",
    "md.add(Dense(n_h3, initializer = 'ng'))\n",
    "md.add(Activation('relu'))\n",
    "\n",
    "md.add(Dense(n_y, initializer = 'ng'))\n",
    "#md.add(Activation('sigmoid'))\n"
   ]
  },
  {
   "cell_type": "code",
   "execution_count": 10,
   "metadata": {},
   "outputs": [
    {
     "data": {
      "text/plain": [
       "array([[0.5       , 0.51070848, 0.51218048, 0.49967203, 0.5       ,\n",
       "        0.51146416, 0.50101524, 0.51058529, 0.51925091, 0.5072821 ,\n",
       "        0.51751845, 0.52343415, 0.51664199, 0.51336132, 0.51244192,\n",
       "        0.54214359, 0.5270497 , 0.52328587, 0.50970981, 0.50117934,\n",
       "        0.51295187, 0.50503642, 0.52097726, 0.52117334, 0.52463952,\n",
       "        0.49866621, 0.50913296, 0.5024773 , 0.50475451, 0.50052679,\n",
       "        0.51684893, 0.51441823, 0.52723747, 0.52248452, 0.51326758,\n",
       "        0.5095538 , 0.50782313, 0.51225255, 0.50716967, 0.51708065,\n",
       "        0.51151789, 0.50425373, 0.52860268, 0.51460512, 0.53428623,\n",
       "        0.51433466, 0.51425723, 0.51494943, 0.50822296, 0.51473462,\n",
       "        0.52349993, 0.51696485, 0.5087737 , 0.51992917, 0.51761822,\n",
       "        0.52176028, 0.51495116, 0.52633402, 0.50147862, 0.51146124,\n",
       "        0.50115343, 0.5156802 , 0.52230976, 0.51571544, 0.52113602,\n",
       "        0.5127096 , 0.50890673, 0.50196803, 0.51923171, 0.51591168,\n",
       "        0.51940064, 0.50971126, 0.51274363, 0.50861814, 0.50780482,\n",
       "        0.51892735, 0.5       , 0.52013327, 0.51020764, 0.5026447 ,\n",
       "        0.50212677, 0.51789068, 0.51270057, 0.50728235, 0.52184501,\n",
       "        0.51105653, 0.50831682, 0.50284269, 0.52244814, 0.50916325,\n",
       "        0.52642263, 0.51041867, 0.50254487, 0.51637845, 0.526249  ,\n",
       "        0.52008935, 0.52313709, 0.51449341, 0.52734107, 0.51638812,\n",
       "        0.51842862, 0.51227506, 0.52411792, 0.51219868, 0.51209369,\n",
       "        0.51119075, 0.5       , 0.51237422, 0.521449  , 0.51578949,\n",
       "        0.5       , 0.50236041, 0.52089048, 0.50970258, 0.52126298,\n",
       "        0.51350112, 0.50521947, 0.51032018, 0.49901814, 0.52342764,\n",
       "        0.5132375 , 0.52430889, 0.50407443, 0.50994459, 0.50673084,\n",
       "        0.50860011, 0.5098516 , 0.51163711, 0.52029912, 0.51274306,\n",
       "        0.51447076, 0.50828171, 0.51564449, 0.5       , 0.50711557,\n",
       "        0.51741984, 0.52656849, 0.51147644, 0.51011823, 0.50465764,\n",
       "        0.50915646, 0.52456746, 0.51516118, 0.50499788, 0.51016935,\n",
       "        0.51751191, 0.52517683, 0.52570681, 0.50404244, 0.52932037,\n",
       "        0.53014463, 0.5022602 , 0.51405254, 0.51689718, 0.50467597,\n",
       "        0.51485696, 0.51649522, 0.51095543, 0.52096294, 0.51435224,\n",
       "        0.51517154, 0.51825207, 0.51978376, 0.50577002, 0.5123635 ,\n",
       "        0.50821288, 0.50465239, 0.52012817, 0.51630163, 0.52890804,\n",
       "        0.51585356, 0.52691603, 0.51683957, 0.52510917, 0.52391273,\n",
       "        0.51688999, 0.50999323, 0.51520106, 0.513473  , 0.50646102,\n",
       "        0.51093163, 0.50736711, 0.51590467, 0.51680395, 0.52588914,\n",
       "        0.51886303, 0.51878301, 0.52729573, 0.52029437, 0.51202348,\n",
       "        0.51552476, 0.53088956, 0.52732856, 0.52277998, 0.51566728,\n",
       "        0.49988423, 0.5167125 , 0.51246598, 0.50075985, 0.51812199,\n",
       "        0.51571133, 0.53608687, 0.51410586, 0.50730061, 0.52837079,\n",
       "        0.49972856, 0.51044556, 0.50258535, 0.50357138]])"
      ]
     },
     "execution_count": 10,
     "metadata": {},
     "output_type": "execute_result"
    }
   ],
   "source": [
    "AL=md._forward(train_x)\n",
    "AL"
   ]
  },
  {
   "cell_type": "code",
   "execution_count": 11,
   "metadata": {},
   "outputs": [],
   "source": [
    "train_y = train_y.reshape(AL.shape)"
   ]
  },
  {
   "cell_type": "code",
   "execution_count": 12,
   "metadata": {},
   "outputs": [
    {
     "data": {
      "text/plain": [
       "((4, 12288), (7, 4), (5, 7), (1, 5))"
      ]
     },
     "execution_count": 12,
     "metadata": {},
     "output_type": "execute_result"
    }
   ],
   "source": [
    "md.layers[0].W.shape, md.layers[2].W.shape, md.layers[4].W.shape, md.layers[6].W.shape"
   ]
  },
  {
   "cell_type": "code",
   "execution_count": null,
   "metadata": {},
   "outputs": [],
   "source": []
  },
  {
   "cell_type": "code",
   "execution_count": 13,
   "metadata": {},
   "outputs": [
    {
     "data": {
      "text/plain": [
       "((12288, 209), (4, 12288), (4, 209), (4, 209))"
      ]
     },
     "execution_count": 13,
     "metadata": {},
     "output_type": "execute_result"
    }
   ],
   "source": [
    "md.layers[0].layer_input.shape, \\\n",
    "md.layers[0].W.shape,\\\n",
    "md.layers[1].layer_input.shape,\\\n",
    "md.layers[2].layer_input.shape\n"
   ]
  },
  {
   "cell_type": "code",
   "execution_count": 14,
   "metadata": {},
   "outputs": [
    {
     "data": {
      "text/plain": [
       "((4, 209), (7, 4), (7, 209), (7, 209))"
      ]
     },
     "execution_count": 14,
     "metadata": {},
     "output_type": "execute_result"
    }
   ],
   "source": [
    "md.layers[2].layer_input.shape, \\\n",
    "md.layers[2].W.shape,\\\n",
    "md.layers[3].layer_input.shape,\\\n",
    "md.layers[4].layer_input.shape"
   ]
  },
  {
   "cell_type": "code",
   "execution_count": 15,
   "metadata": {},
   "outputs": [
    {
     "data": {
      "text/plain": [
       "((7, 209), (5, 7), (5, 209), (5, 209))"
      ]
     },
     "execution_count": 15,
     "metadata": {},
     "output_type": "execute_result"
    }
   ],
   "source": [
    "md.layers[4].layer_input.shape, \\\n",
    "md.layers[4].W.shape,\\\n",
    "md.layers[5].layer_input.shape,\\\n",
    "md.layers[6].layer_input.shape"
   ]
  },
  {
   "cell_type": "code",
   "execution_count": 16,
   "metadata": {},
   "outputs": [
    {
     "data": {
      "text/plain": [
       "((5, 209), (1, 5), (1, 209))"
      ]
     },
     "execution_count": 16,
     "metadata": {},
     "output_type": "execute_result"
    }
   ],
   "source": [
    "md.layers[6].layer_input.shape, \\\n",
    "md.layers[6].W.shape,\\\n",
    "md.layers[7].layer_input.shape\n"
   ]
  },
  {
   "cell_type": "code",
   "execution_count": 17,
   "metadata": {},
   "outputs": [
    {
     "data": {
      "text/plain": [
       "(0.701906864851638, 0.3588516746411483)"
      ]
     },
     "execution_count": 17,
     "metadata": {},
     "output_type": "execute_result"
    }
   ],
   "source": [
    "md.train_on_batch(train_x, train_y)"
   ]
  },
  {
   "cell_type": "code",
   "execution_count": 18,
   "metadata": {},
   "outputs": [
    {
     "data": {
      "text/plain": [
       "(7, 4)"
      ]
     },
     "execution_count": 18,
     "metadata": {},
     "output_type": "execute_result"
    }
   ],
   "source": [
    "md.layers[2].dW .shape"
   ]
  },
  {
   "cell_type": "code",
   "execution_count": 19,
   "metadata": {},
   "outputs": [
    {
     "data": {
      "text/plain": [
       "209"
      ]
     },
     "execution_count": 19,
     "metadata": {},
     "output_type": "execute_result"
    }
   ],
   "source": [
    "train_x.shape[1]"
   ]
  },
  {
   "cell_type": "code",
   "execution_count": 20,
   "metadata": {},
   "outputs": [
    {
     "name": "stderr",
     "output_type": "stream",
     "text": [
      "100%|██████████| 2400/2400 [01:10<00:00, 34.26it/s]\n"
     ]
    }
   ],
   "source": [
    "train, val = md.fit(train_x, train_y, n_epochs=2400, batch_size=32)"
   ]
  },
  {
   "cell_type": "code",
   "execution_count": 21,
   "metadata": {},
   "outputs": [],
   "source": [
    "pred =md.predict(train_x)\n",
    "pred=(pred >0.5)"
   ]
  },
  {
   "cell_type": "code",
   "execution_count": 22,
   "metadata": {},
   "outputs": [
    {
     "data": {
      "text/plain": [
       "1.0"
      ]
     },
     "execution_count": 22,
     "metadata": {},
     "output_type": "execute_result"
    }
   ],
   "source": [
    "np.mean((pred == train_y))"
   ]
  },
  {
   "cell_type": "code",
   "execution_count": 23,
   "metadata": {},
   "outputs": [
    {
     "data": {
      "text/plain": [
       "((12288, 209), (1, 209))"
      ]
     },
     "execution_count": 23,
     "metadata": {},
     "output_type": "execute_result"
    }
   ],
   "source": [
    "train_x.shape , train_y.shape "
   ]
  },
  {
   "cell_type": "code",
   "execution_count": 24,
   "metadata": {},
   "outputs": [],
   "source": [
    "test_y = test_y.reshape((1, 50))"
   ]
  },
  {
   "cell_type": "code",
   "execution_count": 25,
   "metadata": {},
   "outputs": [
    {
     "data": {
      "text/plain": [
       "(0.0462309875157962, 0.78)"
      ]
     },
     "execution_count": 25,
     "metadata": {},
     "output_type": "execute_result"
    }
   ],
   "source": [
    "md.test_on_batch(test_x, test_y)"
   ]
  },
  {
   "cell_type": "code",
   "execution_count": 26,
   "metadata": {},
   "outputs": [
    {
     "data": {
      "text/plain": [
       "0.78"
      ]
     },
     "execution_count": 26,
     "metadata": {},
     "output_type": "execute_result"
    }
   ],
   "source": [
    "pred_test =md.predict(test_x)>=0.5\n",
    "np.mean((pred_test == test_y))"
   ]
  },
  {
   "cell_type": "code",
   "execution_count": null,
   "metadata": {},
   "outputs": [],
   "source": []
  }
 ],
 "metadata": {
  "kernelspec": {
   "display_name": "Python 3",
   "language": "python",
   "name": "python3"
  },
  "language_info": {
   "codemirror_mode": {
    "name": "ipython",
    "version": 3
   },
   "file_extension": ".py",
   "mimetype": "text/x-python",
   "name": "python",
   "nbconvert_exporter": "python",
   "pygments_lexer": "ipython3",
   "version": "3.7.1"
  }
 },
 "nbformat": 4,
 "nbformat_minor": 2
}
