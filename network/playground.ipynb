{
 "cells": [
  {
   "cell_type": "code",
   "execution_count": 1,
   "metadata": {},
   "outputs": [],
   "source": [
    "from main_class import *\n",
    "from layers import *\n",
    "from loss_functions import *"
   ]
  },
  {
   "cell_type": "code",
   "execution_count": 8,
   "metadata": {},
   "outputs": [
    {
     "name": "stdout",
     "output_type": "stream",
     "text": [
      "[[ 0.93781623 -0.35319773 -0.3049401 ]\n",
      " [-0.61947872  0.49964333 -1.32879399]\n",
      " [ 1.00736754 -0.43948301  0.18419731]\n",
      " [-0.14397405  0.84414841 -1.18942279]] \n",
      "\n",
      " [[-0.1612086  -0.19202718  0.56688472 -0.54994563]\n",
      " [-0.0862141  -0.43892921  0.02110687  0.29140761]]\n"
     ]
    }
   ],
   "source": [
    "\n",
    "#Initialization debugged\n",
    "\n",
    "np.random.seed(1)\n",
    "\n",
    "md=NeuralNetwork(CrossEntropy)\n",
    "np.random.seed(1)\n",
    "md.add(Dense(4, input_shape=(3,), initializer = 'ng'))\n",
    "md.add(Activation('relu'))\n",
    "\n",
    "md.add(Dense(2, initializer = 'ng'))\n",
    "md.add(Activation('relu'))\n",
    "\n",
    "md.add(Dense(1))\n",
    "md.add(Activation('sigmoid'))\n",
    "\n",
    "print(md.layers[0].W,'\\n\\n' , md.layers[2].W)"
   ]
  },
  {
   "cell_type": "code",
   "execution_count": null,
   "metadata": {},
   "outputs": [],
   "source": [
    "np.random.seed(1)\n",
    "\n",
    "md=NeuralNetwork(CrossEntropy)\n",
    "np.random.seed(1)\n",
    "md.add(Dense(5, input_shape=(3,), initializer = 'ng'))\n",
    "md.add(Activation('relu'))\n",
    "md.add(Dense(2))\n",
    "md.add(Activation('sigmoid'))\n",
    "\n",
    "print(md.layers[0].W)"
   ]
  },
  {
   "cell_type": "code",
   "execution_count": 9,
   "metadata": {},
   "outputs": [
    {
     "data": {
      "text/plain": [
       "((3,), 5, True)"
      ]
     },
     "execution_count": 9,
     "metadata": {},
     "output_type": "execute_result"
    }
   ],
   "source": [
    " md.layers[0].input_shape , md.layers[0].n_units ,md.layers[0].trainable \n"
   ]
  },
  {
   "cell_type": "code",
   "execution_count": 10,
   "metadata": {},
   "outputs": [
    {
     "data": {
      "text/plain": [
       "(5,)"
      ]
     },
     "execution_count": 10,
     "metadata": {},
     "output_type": "execute_result"
    }
   ],
   "source": [
    " md.layers[1].input_shape "
   ]
  },
  {
   "cell_type": "code",
   "execution_count": 11,
   "metadata": {},
   "outputs": [
    {
     "data": {
      "text/plain": [
       "((5,), 2)"
      ]
     },
     "execution_count": 11,
     "metadata": {},
     "output_type": "execute_result"
    }
   ],
   "source": [
    " md.layers[2].input_shape , md.layers[2].n_units "
   ]
  },
  {
   "cell_type": "code",
   "execution_count": 12,
   "metadata": {},
   "outputs": [
    {
     "name": "stdout",
     "output_type": "stream",
     "text": [
      "[[ 0.53229464  0.5580581  -0.5868361  -0.65187498 -0.4669303 ]\n",
      " [ 0.53477426 -0.56802335 -0.11157067  0.64755358  0.0469028 ]]\n"
     ]
    }
   ],
   "source": [
    "print(md.layers[2].W)"
   ]
  },
  {
   "cell_type": "code",
   "execution_count": 13,
   "metadata": {},
   "outputs": [],
   "source": [
    "md.layers[0].layer_input"
   ]
  },
  {
   "cell_type": "code",
   "execution_count": 14,
   "metadata": {},
   "outputs": [
    {
     "data": {
      "text/plain": [
       "array([[0.69187711],\n",
       "       [0.31551563],\n",
       "       [0.68650093]])"
      ]
     },
     "execution_count": 14,
     "metadata": {},
     "output_type": "execute_result"
    }
   ],
   "source": [
    "X= np.random.uniform(0, 1, (3,1))\n",
    "X"
   ]
  },
  {
   "cell_type": "code",
   "execution_count": 15,
   "metadata": {},
   "outputs": [
    {
     "data": {
      "text/plain": [
       "array([[1],\n",
       "       [0]])"
      ]
     },
     "execution_count": 15,
     "metadata": {},
     "output_type": "execute_result"
    }
   ],
   "source": [
    "Y= np.array([[1],[0]])\n",
    "Y"
   ]
  },
  {
   "cell_type": "code",
   "execution_count": 16,
   "metadata": {},
   "outputs": [
    {
     "data": {
      "text/plain": [
       "array([[0.43373157],\n",
       "       [0.52144318]])"
      ]
     },
     "execution_count": 16,
     "metadata": {},
     "output_type": "execute_result"
    }
   ],
   "source": [
    " AL=md._forward(X)\n",
    "AL"
   ]
  },
  {
   "cell_type": "code",
   "execution_count": 17,
   "metadata": {},
   "outputs": [],
   "source": [
    "md._backward(AL)"
   ]
  },
  {
   "cell_type": "code",
   "execution_count": 19,
   "metadata": {},
   "outputs": [
    {
     "name": "stdout",
     "output_type": "stream",
     "text": [
      "[[ 0.53209161  0.5580581  -0.58725988 -0.65187498 -0.4670854 ]\n",
      " [ 0.53452626 -0.56802335 -0.1120883   0.64755358  0.04671334]]\n"
     ]
    }
   ],
   "source": [
    "print(md.layers[2].W)"
   ]
  },
  {
   "cell_type": "code",
   "execution_count": 14,
   "metadata": {},
   "outputs": [
    {
     "name": "stdout",
     "output_type": "stream",
     "text": [
      "[[0.00150003 0.00441871 0.        ]\n",
      " [0.0015089  0.00444483 0.        ]]\n"
     ]
    }
   ],
   "source": [
    "print(md.layers[4].dW)"
   ]
  },
  {
   "cell_type": "code",
   "execution_count": 20,
   "metadata": {},
   "outputs": [
    {
     "data": {
      "text/plain": [
       "(0.7863979089462562, 1.0)"
      ]
     },
     "execution_count": 20,
     "metadata": {},
     "output_type": "execute_result"
    }
   ],
   "source": [
    "md.train_on_batch(X,Y)"
   ]
  },
  {
   "cell_type": "code",
   "execution_count": null,
   "metadata": {},
   "outputs": [],
   "source": []
  },
  {
   "cell_type": "code",
   "execution_count": null,
   "metadata": {},
   "outputs": [],
   "source": []
  }
 ],
 "metadata": {
  "kernelspec": {
   "display_name": "Python 3",
   "language": "python",
   "name": "python3"
  },
  "language_info": {
   "codemirror_mode": {
    "name": "ipython",
    "version": 3
   },
   "file_extension": ".py",
   "mimetype": "text/x-python",
   "name": "python",
   "nbconvert_exporter": "python",
   "pygments_lexer": "ipython3",
   "version": "3.7.1"
  }
 },
 "nbformat": 4,
 "nbformat_minor": 2
}
