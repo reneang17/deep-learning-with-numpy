{
 "cells": [
  {
   "cell_type": "code",
   "execution_count": 20,
   "metadata": {},
   "outputs": [],
   "source": [
    "from main_class import *\n",
    "from layers import *\n",
    "from loss_functions import *"
   ]
  },
  {
   "cell_type": "code",
   "execution_count": 34,
   "metadata": {},
   "outputs": [
    {
     "name": "stdout",
     "output_type": "stream",
     "text": [
      "[[ 0.93781623 -0.35319773 -0.3049401 ]\n",
      " [-0.61947872  0.49964333 -1.32879399]\n",
      " [ 1.00736754 -0.43948301  0.18419731]\n",
      " [-0.14397405  0.84414841 -1.18942279]] \n",
      "\n",
      " [[-0.1612086  -0.19202718  0.56688472 -0.54994563]\n",
      " [-0.0862141  -0.43892921  0.02110687  0.29140761]\n",
      " [-0.55030959  0.57236185  0.45079536  0.25124717]\n",
      " [ 0.45042797 -0.34186393 -0.06144511 -0.46788472]\n",
      " [-0.13394404  0.26517773 -0.34583038 -0.19837676]\n",
      " [-0.34358635 -0.42260282 -0.33562307 -0.0063323 ]\n",
      " [-0.55865517  0.11720785  0.82990109  0.37102208]]\n"
     ]
    }
   ],
   "source": [
    "\n",
    "#Initialization debugged\n",
    "\n",
    "\n",
    "\n",
    "n_x = 3     # num_px * num_px * 3\n",
    "n_h1 = 4\n",
    "n_h2 = 7\n",
    "n_y = 1\n",
    "\n",
    "md=NeuralNetwork(CrossEntropy)\n",
    "np.random.seed(1)\n",
    "\n",
    "md.add(Dense(n_h1, input_shape=(n_x,), initializer = 'ng'))\n",
    "md.add(Activation('relu'))\n",
    "\n",
    "md.add(Dense(n_h2, initializer = 'ng'))\n",
    "md.add(Activation('relu'))\n",
    "\n",
    "md.add(Dense(n_y, initializer = 'ng'))\n",
    "md.add(Activation('sigmoid'))\n",
    "\n",
    "print(md.layers[0].W,'\\n\\n' , md.layers[2].W)\n",
    "#md.layers[2].W=np.array([[ 0.81217268, -0.30587821, -0.26408588, -0.53648431]])"
   ]
  },
  {
   "cell_type": "code",
   "execution_count": 35,
   "metadata": {},
   "outputs": [
    {
     "data": {
      "text/plain": [
       "array([[4.17022005e-01],\n",
       "       [7.20324493e-01],\n",
       "       [1.14374817e-04]])"
      ]
     },
     "execution_count": 35,
     "metadata": {},
     "output_type": "execute_result"
    }
   ],
   "source": [
    "np.random.seed(1)\n",
    "X= np.random.uniform(0, 1, (n_x,1))\n",
    "X"
   ]
  },
  {
   "cell_type": "code",
   "execution_count": 36,
   "metadata": {},
   "outputs": [
    {
     "data": {
      "text/plain": [
       "array([[0.48340483]])"
      ]
     },
     "execution_count": 36,
     "metadata": {},
     "output_type": "execute_result"
    }
   ],
   "source": [
    " AL=md._forward(X)\n",
    "AL"
   ]
  },
  {
   "cell_type": "code",
   "execution_count": 37,
   "metadata": {},
   "outputs": [
    {
     "data": {
      "text/plain": [
       "(0.7269008277074714, 1.0)"
      ]
     },
     "execution_count": 37,
     "metadata": {},
     "output_type": "execute_result"
    }
   ],
   "source": [
    "Y= np.array([[1]])\n",
    "\n",
    "md.train_on_batch(X,Y)"
   ]
  },
  {
   "cell_type": "code",
   "execution_count": 38,
   "metadata": {},
   "outputs": [
    {
     "data": {
      "text/plain": [
       "array([[-3.10262475e-02, -5.35918148e-02, -8.50943440e-06],\n",
       "       [ 1.27527231e-03,  2.20278515e-03,  3.49763408e-07],\n",
       "       [ 1.60497423e-02,  2.77228117e-02,  4.40189324e-06],\n",
       "       [ 3.05792862e-02,  5.28197760e-02,  8.38684826e-06]])"
      ]
     },
     "execution_count": 38,
     "metadata": {},
     "output_type": "execute_result"
    }
   ],
   "source": [
    "md.layers[0].dW"
   ]
  },
  {
   "cell_type": "code",
   "execution_count": null,
   "metadata": {},
   "outputs": [],
   "source": []
  }
 ],
 "metadata": {
  "kernelspec": {
   "display_name": "Python 3",
   "language": "python",
   "name": "python3"
  },
  "language_info": {
   "codemirror_mode": {
    "name": "ipython",
    "version": 3
   },
   "file_extension": ".py",
   "mimetype": "text/x-python",
   "name": "python",
   "nbconvert_exporter": "python",
   "pygments_lexer": "ipython3",
   "version": "3.7.1"
  }
 },
 "nbformat": 4,
 "nbformat_minor": 2
}
