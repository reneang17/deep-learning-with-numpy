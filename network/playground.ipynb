{
 "cells": [
  {
   "cell_type": "code",
   "execution_count": 1,
   "metadata": {},
   "outputs": [],
   "source": [
    "from main_class import *\n",
    "from layers import *"
   ]
  },
  {
   "cell_type": "code",
   "execution_count": 2,
   "metadata": {},
   "outputs": [],
   "source": [
    "md=NeuralNetwork()"
   ]
  },
  {
   "cell_type": "code",
   "execution_count": 3,
   "metadata": {},
   "outputs": [],
   "source": [
    "md.add(Dense(5, input_shape=(3,)))"
   ]
  },
  {
   "cell_type": "code",
   "execution_count": 4,
   "metadata": {},
   "outputs": [
    {
     "data": {
      "text/plain": [
       "[<layers.Dense at 0x11314bba8>]"
      ]
     },
     "execution_count": 4,
     "metadata": {},
     "output_type": "execute_result"
    }
   ],
   "source": [
    "md.layers"
   ]
  },
  {
   "cell_type": "code",
   "execution_count": 5,
   "metadata": {},
   "outputs": [],
   "source": [
    "md.add(Dense(15))"
   ]
  },
  {
   "cell_type": "code",
   "execution_count": 6,
   "metadata": {},
   "outputs": [
    {
     "name": "stdout",
     "output_type": "stream",
     "text": [
      "[[ 0.05865637  0.2403484  -0.24144241]\n",
      " [ 0.01250264  0.45373606  0.45759984]\n",
      " [-0.43233684 -0.33804681 -0.51792106]\n",
      " [-0.06834691 -0.54285219 -0.0498447 ]\n",
      " [ 0.17221671 -0.25578085  0.20352163]]\n"
     ]
    }
   ],
   "source": [
    "print(md.layers[0].W)"
   ]
  },
  {
   "cell_type": "code",
   "execution_count": 7,
   "metadata": {},
   "outputs": [
    {
     "data": {
      "text/plain": [
       "((3,), 5, True)"
      ]
     },
     "execution_count": 7,
     "metadata": {},
     "output_type": "execute_result"
    }
   ],
   "source": [
    " md.layers[0].input_shape , md.layers[0].n_units ,md.layers[0].trainable \n"
   ]
  },
  {
   "cell_type": "code",
   "execution_count": 8,
   "metadata": {},
   "outputs": [
    {
     "data": {
      "text/plain": [
       "((5,), 15)"
      ]
     },
     "execution_count": 8,
     "metadata": {},
     "output_type": "execute_result"
    }
   ],
   "source": [
    " md.layers[1].input_shape , md.layers[1].n_units "
   ]
  },
  {
   "cell_type": "code",
   "execution_count": 9,
   "metadata": {},
   "outputs": [
    {
     "name": "stdout",
     "output_type": "stream",
     "text": [
      "[[ 0.04543503  0.18617307 -0.18702049  0.0096845   0.35146244]\n",
      " [ 0.35445531 -0.33488668 -0.26184993 -0.40117993 -0.05294129]\n",
      " [-0.4204915  -0.03860954  0.13339849 -0.198127    0.15764718]\n",
      " [ 0.08127017 -0.42576355  0.0526407  -0.21533116 -0.0759358 ]\n",
      " [-0.19362105  0.17274781 -0.05325981 -0.30690682  0.0399353 ]\n",
      " [ 0.25072115 -0.17319372 -0.24868843 -0.10020155  0.3903134 ]\n",
      " [ 0.42574325  0.15418465  0.36030578  0.30924898 -0.10912545]\n",
      " [-0.3647322   0.13721488  0.05173435 -0.12382024 -0.24591873]\n",
      " [-0.08361113 -0.02778069 -0.20640197 -0.1862262  -0.03784643]\n",
      " [ 0.32247134  0.07714694 -0.19365434 -0.19858296 -0.04058725]\n",
      " [-0.263489   -0.267095    0.01255334 -0.36919328 -0.01468155]\n",
      " [-0.12327334  0.18576056  0.22069653  0.17091871  0.16920811]\n",
      " [-0.11305549  0.15038434 -0.14324371  0.06510882 -0.15580281]\n",
      " [-0.04906376 -0.39218045 -0.2301581   0.42181419 -0.24097281]\n",
      " [ 0.17126269  0.13459059  0.20029726 -0.02228142  0.08645871]]\n"
     ]
    }
   ],
   "source": [
    "print(md.layers[1].W)"
   ]
  },
  {
   "cell_type": "code",
   "execution_count": 10,
   "metadata": {},
   "outputs": [],
   "source": [
    "md.layers[0].layer_input"
   ]
  },
  {
   "cell_type": "code",
   "execution_count": 18,
   "metadata": {},
   "outputs": [
    {
     "data": {
      "text/plain": [
       "array([[1.],\n",
       "       [1.],\n",
       "       [1.]])"
      ]
     },
     "execution_count": 18,
     "metadata": {},
     "output_type": "execute_result"
    }
   ],
   "source": [
    "A_prev= np.random.uniform(1, 1, (3,1))\n",
    "A_prev"
   ]
  },
  {
   "cell_type": "code",
   "execution_count": 19,
   "metadata": {},
   "outputs": [
    {
     "data": {
      "text/plain": [
       "array([[ 0.05865637,  0.2403484 , -0.24144241],\n",
       "       [ 0.01250264,  0.45373606,  0.45759984],\n",
       "       [-0.43233684, -0.33804681, -0.51792106],\n",
       "       [-0.06834691, -0.54285219, -0.0498447 ],\n",
       "       [ 0.17221671, -0.25578085,  0.20352163]])"
      ]
     },
     "execution_count": 19,
     "metadata": {},
     "output_type": "execute_result"
    }
   ],
   "source": [
    " md.layers[0].W"
   ]
  },
  {
   "cell_type": "code",
   "execution_count": 22,
   "metadata": {},
   "outputs": [
    {
     "data": {
      "text/plain": [
       "array([[ 0.05756236],\n",
       "       [ 0.92383854],\n",
       "       [-1.28830471],\n",
       "       [-0.6610438 ],\n",
       "       [ 0.11995749]])"
      ]
     },
     "execution_count": 22,
     "metadata": {},
     "output_type": "execute_result"
    }
   ],
   "source": [
    " md.layers[0].forward_linear(A_prev)"
   ]
  },
  {
   "cell_type": "code",
   "execution_count": null,
   "metadata": {},
   "outputs": [],
   "source": []
  }
 ],
 "metadata": {
  "kernelspec": {
   "display_name": "Python 3",
   "language": "python",
   "name": "python3"
  },
  "language_info": {
   "codemirror_mode": {
    "name": "ipython",
    "version": 3
   },
   "file_extension": ".py",
   "mimetype": "text/x-python",
   "name": "python",
   "nbconvert_exporter": "python",
   "pygments_lexer": "ipython3",
   "version": "3.7.1"
  }
 },
 "nbformat": 4,
 "nbformat_minor": 2
}
