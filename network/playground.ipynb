{
 "cells": [
  {
   "cell_type": "code",
   "execution_count": 1,
   "metadata": {},
   "outputs": [],
   "source": [
    "from main_class import *\n",
    "from layers import *\n",
    "from loss_functions import *"
   ]
  },
  {
   "cell_type": "code",
   "execution_count": 2,
   "metadata": {},
   "outputs": [
    {
     "name": "stdout",
     "output_type": "stream",
     "text": [
      "[[ 0.93781623 -0.35319773 -0.3049401 ]\n",
      " [-0.61947872  0.49964333 -1.32879399]\n",
      " [ 1.00736754 -0.43948301  0.18419731]\n",
      " [-0.14397405  0.84414841 -1.18942279]] \n",
      "\n",
      " [[-0.1612086  -0.19202718  0.56688472 -0.54994563]\n",
      " [-0.0862141  -0.43892921  0.02110687  0.29140761]\n",
      " [-0.55030959  0.57236185  0.45079536  0.25124717]\n",
      " [ 0.45042797 -0.34186393 -0.06144511 -0.46788472]\n",
      " [-0.13394404  0.26517773 -0.34583038 -0.19837676]\n",
      " [-0.34358635 -0.42260282 -0.33562307 -0.0063323 ]\n",
      " [-0.55865517  0.11720785  0.82990109  0.37102208]]\n"
     ]
    }
   ],
   "source": [
    "\n",
    "#Initialization debugged\n",
    "\n",
    "\n",
    "\n",
    "n_x = 3     # num_px * num_px * 3\n",
    "n_h1 = 4\n",
    "n_h2 = 7\n",
    "n_y = 1\n",
    "\n",
    "md=NeuralNetwork(CrossEntropy)\n",
    "np.random.seed(1)\n",
    "\n",
    "md.add(Dense(n_h1, input_shape=(n_x,), initializer = 'ng'))\n",
    "md.add(Activation('relu'))\n",
    "\n",
    "md.add(Dense(n_h2, initializer = 'ng'))\n",
    "md.add(Activation('relu'))\n",
    "\n",
    "md.add(Dense(n_y, initializer = 'ng'))\n",
    "md.add(Activation('sigmoid'))\n",
    "\n",
    "print(md.layers[0].W,'\\n\\n' , md.layers[2].W)\n",
    "#md.layers[2].W=np.array([[ 0.81217268, -0.30587821, -0.26408588, -0.53648431]])"
   ]
  },
  {
   "cell_type": "code",
   "execution_count": 3,
   "metadata": {},
   "outputs": [
    {
     "data": {
      "text/plain": [
       "array([[4.17022005e-01],\n",
       "       [7.20324493e-01],\n",
       "       [1.14374817e-04]])"
      ]
     },
     "execution_count": 3,
     "metadata": {},
     "output_type": "execute_result"
    }
   ],
   "source": [
    "np.random.seed(1)\n",
    "X= np.random.uniform(0, 1, (n_x,1))\n",
    "X"
   ]
  },
  {
   "cell_type": "code",
   "execution_count": 4,
   "metadata": {},
   "outputs": [
    {
     "data": {
      "text/plain": [
       "array([[0.48340483]])"
      ]
     },
     "execution_count": 4,
     "metadata": {},
     "output_type": "execute_result"
    }
   ],
   "source": [
    " AL=md._forward(X)\n",
    "AL"
   ]
  },
  {
   "cell_type": "code",
   "execution_count": 5,
   "metadata": {},
   "outputs": [
    {
     "data": {
      "text/plain": [
       "(0.7269008277074714, 0.0)"
      ]
     },
     "execution_count": 5,
     "metadata": {},
     "output_type": "execute_result"
    }
   ],
   "source": [
    "Y= np.array([[1]])\n",
    "\n",
    "md.train_on_batch(X,Y)"
   ]
  },
  {
   "cell_type": "code",
   "execution_count": 6,
   "metadata": {},
   "outputs": [
    {
     "data": {
      "text/plain": [
       "array([[ 0.        ,  0.        ,  0.        ,  0.        ],\n",
       "       [ 0.02368126,  0.01757697,  0.01794578,  0.09495585],\n",
       "       [ 0.01993361,  0.01479534,  0.0151058 ,  0.07992872],\n",
       "       [-0.        , -0.        , -0.        , -0.        ],\n",
       "       [-0.        , -0.        , -0.        , -0.        ],\n",
       "       [ 0.        ,  0.        ,  0.        ,  0.        ],\n",
       "       [-0.00509348, -0.00378054, -0.00385987, -0.02042356]])"
      ]
     },
     "execution_count": 6,
     "metadata": {},
     "output_type": "execute_result"
    }
   ],
   "source": [
    "md.layers[2].dW"
   ]
  },
  {
   "cell_type": "code",
   "execution_count": 7,
   "metadata": {},
   "outputs": [],
   "source": [
    "train_x=np.loadtxt('./data/train_x.csv', delimiter=\",\")\n",
    "train_y=np.loadtxt('./data/train_y.csv', delimiter=\",\")\n",
    "\n",
    "test_x=np.loadtxt('./data/test_x.csv', delimiter=\",\")\n",
    "test_y=np.loadtxt('./data/test_y.csv', delimiter=\",\")"
   ]
  },
  {
   "cell_type": "code",
   "execution_count": 8,
   "metadata": {},
   "outputs": [],
   "source": [
    "n_x = 12288     # num_px * num_px * 3\n",
    "n_h1 = 20\n",
    "n_h2 = 7\n",
    "n_h3 = 5\n",
    "n_y = 1\n",
    "\n",
    "md=NeuralNetwork(CrossEntropy)\n",
    "np.random.seed(1)\n",
    "\n",
    "md.add(Dense(n_h1, input_shape=(n_x,), initializer = 'ng'))\n",
    "md.add(Activation('relu'))\n",
    "\n",
    "md.add(Dense(n_h2, initializer = 'ng'))\n",
    "md.add(Activation('relu'))\n",
    "\n",
    "md.add(Dense(n_h3, initializer = 'ng'))\n",
    "md.add(Activation('relu'))\n",
    "\n",
    "md.add(Dense(n_y, initializer = 'ng'))\n",
    "md.add(Activation('sigmoid'))\n"
   ]
  },
  {
   "cell_type": "code",
   "execution_count": 9,
   "metadata": {},
   "outputs": [
    {
     "data": {
      "text/plain": [
       "array([[0.55893222, 0.58946891, 0.6117565 , 0.52893672, 0.63110697,\n",
       "        0.58264379, 0.55652116, 0.50163581, 0.56419673, 0.54498116,\n",
       "        0.60895365, 0.61711872, 0.59900556, 0.63670604, 0.59071161,\n",
       "        0.70225162, 0.58916264, 0.67616388, 0.60341067, 0.5743451 ,\n",
       "        0.60422171, 0.5768078 , 0.64351136, 0.6600246 , 0.66032722,\n",
       "        0.53392824, 0.62094069, 0.5850552 , 0.5801449 , 0.59830082,\n",
       "        0.56988221, 0.65897529, 0.58262912, 0.66742252, 0.59293297,\n",
       "        0.55231835, 0.55894744, 0.55363025, 0.51792745, 0.6199034 ,\n",
       "        0.61203414, 0.5789821 , 0.63664657, 0.62345464, 0.56825509,\n",
       "        0.55307803, 0.64356209, 0.58381627, 0.60326641, 0.57609804,\n",
       "        0.64855074, 0.5867378 , 0.60971581, 0.61903345, 0.56811604,\n",
       "        0.62251748, 0.57811722, 0.64820438, 0.54374214, 0.54747803,\n",
       "        0.55780033, 0.59000156, 0.5946332 , 0.57453264, 0.6150257 ,\n",
       "        0.5559803 , 0.61366413, 0.54613142, 0.60085496, 0.59572995,\n",
       "        0.62497464, 0.53557741, 0.54208569, 0.5920041 , 0.65792381,\n",
       "        0.61500258, 0.565305  , 0.5468051 , 0.57807006, 0.52888615,\n",
       "        0.60197614, 0.63755142, 0.56507937, 0.54806831, 0.64295276,\n",
       "        0.57717153, 0.59608934, 0.52370016, 0.61066064, 0.59654549,\n",
       "        0.59573745, 0.60569559, 0.56407815, 0.57269491, 0.60973718,\n",
       "        0.62905899, 0.6244567 , 0.64440069, 0.6348519 , 0.57591977,\n",
       "        0.59561025, 0.57407261, 0.59733376, 0.56189289, 0.54460696,\n",
       "        0.58647771, 0.59041212, 0.57265208, 0.57571182, 0.59802872,\n",
       "        0.63124934, 0.61099412, 0.57382992, 0.62601255, 0.61157736,\n",
       "        0.63458159, 0.63199803, 0.59509295, 0.51334961, 0.57066161,\n",
       "        0.58521003, 0.62593009, 0.56498649, 0.62083492, 0.56441094,\n",
       "        0.59797335, 0.56210649, 0.57228769, 0.61192128, 0.54527731,\n",
       "        0.58917671, 0.60442373, 0.59467726, 0.55995708, 0.55988589,\n",
       "        0.6188392 , 0.64248448, 0.61954609, 0.5545335 , 0.54843377,\n",
       "        0.60879557, 0.62268624, 0.58313882, 0.56717344, 0.60993092,\n",
       "        0.56566076, 0.6237143 , 0.63520215, 0.55242176, 0.60172017,\n",
       "        0.60404163, 0.57138968, 0.6243596 , 0.53629523, 0.54110025,\n",
       "        0.56785935, 0.58531782, 0.53730332, 0.63591402, 0.5750831 ,\n",
       "        0.55778995, 0.5972317 , 0.61285052, 0.58395752, 0.6139793 ,\n",
       "        0.54129581, 0.58387931, 0.58073024, 0.60865655, 0.65019122,\n",
       "        0.56714266, 0.6367523 , 0.63151519, 0.60619216, 0.60931265,\n",
       "        0.58614388, 0.58151333, 0.56889906, 0.6120659 , 0.58153074,\n",
       "        0.53131274, 0.5201351 , 0.63126516, 0.61779706, 0.56350986,\n",
       "        0.55653419, 0.58720249, 0.58711161, 0.55318302, 0.58086175,\n",
       "        0.63239185, 0.64064046, 0.64695035, 0.60276803, 0.61120197,\n",
       "        0.50412887, 0.60880844, 0.5594096 , 0.5352887 , 0.60570374,\n",
       "        0.59445333, 0.6626829 , 0.55958154, 0.65025883, 0.66049912,\n",
       "        0.5297471 , 0.56463917, 0.54147534, 0.54599962]])"
      ]
     },
     "execution_count": 9,
     "metadata": {},
     "output_type": "execute_result"
    }
   ],
   "source": [
    "AL=md._forward(train_x)\n",
    "AL"
   ]
  },
  {
   "cell_type": "code",
   "execution_count": 10,
   "metadata": {},
   "outputs": [],
   "source": [
    "train_y = train_y.reshape(AL.shape)"
   ]
  },
  {
   "cell_type": "code",
   "execution_count": 11,
   "metadata": {},
   "outputs": [
    {
     "data": {
      "text/plain": [
       "((20, 12288), (7, 20), (5, 7), (1, 5))"
      ]
     },
     "execution_count": 11,
     "metadata": {},
     "output_type": "execute_result"
    }
   ],
   "source": [
    "md.layers[0].W.shape, md.layers[2].W.shape, md.layers[4].W.shape, md.layers[6].W.shape"
   ]
  },
  {
   "cell_type": "code",
   "execution_count": null,
   "metadata": {},
   "outputs": [],
   "source": []
  },
  {
   "cell_type": "code",
   "execution_count": 12,
   "metadata": {},
   "outputs": [
    {
     "data": {
      "text/plain": [
       "((12288, 209), (20, 12288), (20, 209), (20, 209))"
      ]
     },
     "execution_count": 12,
     "metadata": {},
     "output_type": "execute_result"
    }
   ],
   "source": [
    "md.layers[0].layer_input.shape, \\\n",
    "md.layers[0].W.shape,\\\n",
    "md.layers[1].layer_input.shape,\\\n",
    "md.layers[2].layer_input.shape\n"
   ]
  },
  {
   "cell_type": "code",
   "execution_count": 13,
   "metadata": {},
   "outputs": [
    {
     "data": {
      "text/plain": [
       "((20, 209), (7, 20), (7, 209), (7, 209))"
      ]
     },
     "execution_count": 13,
     "metadata": {},
     "output_type": "execute_result"
    }
   ],
   "source": [
    "md.layers[2].layer_input.shape, \\\n",
    "md.layers[2].W.shape,\\\n",
    "md.layers[3].layer_input.shape,\\\n",
    "md.layers[4].layer_input.shape"
   ]
  },
  {
   "cell_type": "code",
   "execution_count": 14,
   "metadata": {},
   "outputs": [
    {
     "data": {
      "text/plain": [
       "((7, 209), (5, 7), (5, 209), (5, 209))"
      ]
     },
     "execution_count": 14,
     "metadata": {},
     "output_type": "execute_result"
    }
   ],
   "source": [
    "md.layers[4].layer_input.shape, \\\n",
    "md.layers[4].W.shape,\\\n",
    "md.layers[5].layer_input.shape,\\\n",
    "md.layers[6].layer_input.shape"
   ]
  },
  {
   "cell_type": "code",
   "execution_count": 15,
   "metadata": {},
   "outputs": [
    {
     "data": {
      "text/plain": [
       "((5, 209), (1, 5), (1, 209))"
      ]
     },
     "execution_count": 15,
     "metadata": {},
     "output_type": "execute_result"
    }
   ],
   "source": [
    "md.layers[6].layer_input.shape, \\\n",
    "md.layers[6].W.shape,\\\n",
    "md.layers[7].layer_input.shape\n"
   ]
  },
  {
   "cell_type": "code",
   "execution_count": 16,
   "metadata": {},
   "outputs": [
    {
     "data": {
      "text/plain": [
       "(0.7717493284237686, 0.3444976076555024)"
      ]
     },
     "execution_count": 16,
     "metadata": {},
     "output_type": "execute_result"
    }
   ],
   "source": [
    "md.train_on_batch(train_x, train_y)"
   ]
  },
  {
   "cell_type": "code",
   "execution_count": 17,
   "metadata": {},
   "outputs": [
    {
     "data": {
      "text/plain": [
       "array([[ 0.02223127,  0.02694779,  0.02155859, ...,  0.02135189,\n",
       "         0.02459546,  0.01567405],\n",
       "       [-0.01355345, -0.01592918, -0.01203554, ..., -0.01306601,\n",
       "        -0.0151908 , -0.01004365],\n",
       "       [ 0.00479684,  0.00557402,  0.00469332, ...,  0.00832289,\n",
       "         0.00841248,  0.00630558],\n",
       "       ...,\n",
       "       [ 0.02225063,  0.02673607,  0.02145785, ...,  0.01882232,\n",
       "         0.02287784,  0.01432669],\n",
       "       [ 0.00064784,  0.00075776,  0.00101064, ...,  0.00023422,\n",
       "         0.00059833,  0.00039404],\n",
       "       [-0.01321156, -0.01627463, -0.01295946, ..., -0.01232409,\n",
       "        -0.01437568, -0.00954212]])"
      ]
     },
     "execution_count": 17,
     "metadata": {},
     "output_type": "execute_result"
    }
   ],
   "source": [
    "md.layers[0].dW"
   ]
  },
  {
   "cell_type": "code",
   "execution_count": 18,
   "metadata": {},
   "outputs": [
    {
     "data": {
      "text/plain": [
       "209"
      ]
     },
     "execution_count": 18,
     "metadata": {},
     "output_type": "execute_result"
    }
   ],
   "source": [
    "train_x.shape[1]"
   ]
  },
  {
   "cell_type": "code",
   "execution_count": 19,
   "metadata": {},
   "outputs": [
    {
     "name": "stderr",
     "output_type": "stream",
     "text": [
      "100%|██████████| 2400/2400 [00:24<00:00, 98.83it/s] \n"
     ]
    }
   ],
   "source": [
    "train, val = md.fit(train_x, train_y, n_epochs=2400, batch_size=209)"
   ]
  },
  {
   "cell_type": "code",
   "execution_count": 20,
   "metadata": {},
   "outputs": [
    {
     "data": {
      "text/plain": [
       "0.07178487334418722"
      ]
     },
     "execution_count": 20,
     "metadata": {},
     "output_type": "execute_result"
    }
   ],
   "source": [
    "train[-1]"
   ]
  },
  {
   "cell_type": "code",
   "execution_count": 21,
   "metadata": {},
   "outputs": [],
   "source": [
    "pred =md.predict(train_x)\n",
    "pred=(pred >0.5)"
   ]
  },
  {
   "cell_type": "code",
   "execution_count": 22,
   "metadata": {},
   "outputs": [
    {
     "data": {
      "text/plain": [
       "0.9904306220095692"
      ]
     },
     "execution_count": 22,
     "metadata": {},
     "output_type": "execute_result"
    }
   ],
   "source": [
    "np.sum((pred == train_y)/209)"
   ]
  },
  {
   "cell_type": "code",
   "execution_count": 23,
   "metadata": {},
   "outputs": [
    {
     "data": {
      "text/plain": [
       "((12288, 209), (1, 209))"
      ]
     },
     "execution_count": 23,
     "metadata": {},
     "output_type": "execute_result"
    }
   ],
   "source": [
    "train_x.shape , train_y.shape "
   ]
  },
  {
   "cell_type": "code",
   "execution_count": 24,
   "metadata": {},
   "outputs": [],
   "source": [
    "test_y = test_y.reshape((1, 50))"
   ]
  },
  {
   "cell_type": "code",
   "execution_count": 25,
   "metadata": {},
   "outputs": [
    {
     "data": {
      "text/plain": [
       "(0.7100303785501941, 0.8)"
      ]
     },
     "execution_count": 25,
     "metadata": {},
     "output_type": "execute_result"
    }
   ],
   "source": [
    "md.test_on_batch(test_x, test_y)"
   ]
  },
  {
   "cell_type": "code",
   "execution_count": 26,
   "metadata": {},
   "outputs": [
    {
     "data": {
      "text/plain": [
       "0.8"
      ]
     },
     "execution_count": 26,
     "metadata": {},
     "output_type": "execute_result"
    }
   ],
   "source": [
    "pred_test =md.predict(test_x)>=0.5\n",
    "np.sum((pred_test == test_y)/50)"
   ]
  },
  {
   "cell_type": "code",
   "execution_count": null,
   "metadata": {},
   "outputs": [],
   "source": []
  }
 ],
 "metadata": {
  "kernelspec": {
   "display_name": "Python 3",
   "language": "python",
   "name": "python3"
  },
  "language_info": {
   "codemirror_mode": {
    "name": "ipython",
    "version": 3
   },
   "file_extension": ".py",
   "mimetype": "text/x-python",
   "name": "python",
   "nbconvert_exporter": "python",
   "pygments_lexer": "ipython3",
   "version": "3.7.1"
  }
 },
 "nbformat": 4,
 "nbformat_minor": 2
}
