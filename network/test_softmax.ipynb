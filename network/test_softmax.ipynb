{
 "cells": [
  {
   "cell_type": "code",
   "execution_count": 1,
   "metadata": {},
   "outputs": [],
   "source": [
    "import numpy as np\n",
    "from activation_functions import Softmax"
   ]
  },
  {
   "cell_type": "code",
   "execution_count": 2,
   "metadata": {},
   "outputs": [
    {
     "data": {
      "text/plain": [
       "(5, 3)"
      ]
     },
     "execution_count": 2,
     "metadata": {},
     "output_type": "execute_result"
    }
   ],
   "source": [
    "test_matrix = np.random.rand(5,3)\n",
    "test_matrix.shape"
   ]
  },
  {
   "cell_type": "code",
   "execution_count": 3,
   "metadata": {},
   "outputs": [],
   "source": [
    "soft = Softmax()"
   ]
  },
  {
   "cell_type": "code",
   "execution_count": 4,
   "metadata": {},
   "outputs": [
    {
     "data": {
      "text/plain": [
       "(array([[1., 1., 1.]]), (1, 3), True, (5, 3))"
      ]
     },
     "execution_count": 4,
     "metadata": {},
     "output_type": "execute_result"
    }
   ],
   "source": [
    "answer = soft(test_matrix) \n",
    "np.sum(answer,axis = 0, keepdims=True), np.sum(answer,axis = 0, keepdims=True).shape, \\\n",
    "(answer.shape) == test_matrix.shape, test_matrix.shape "
   ]
  },
  {
   "cell_type": "code",
   "execution_count": 5,
   "metadata": {},
   "outputs": [
    {
     "data": {
      "text/plain": [
       "(5, 5, 3)"
      ]
     },
     "execution_count": 5,
     "metadata": {},
     "output_type": "execute_result"
    }
   ],
   "source": [
    "soft.gradient(test_matrix).shape"
   ]
  },
  {
   "cell_type": "code",
   "execution_count": 6,
   "metadata": {
    "scrolled": true
   },
   "outputs": [
    {
     "data": {
      "text/plain": [
       "array([[ True,  True,  True],\n",
       "       [ True,  True,  True],\n",
       "       [ True,  True,  True],\n",
       "       [ True,  True,  True],\n",
       "       [ True,  True,  True]])"
      ]
     },
     "execution_count": 6,
     "metadata": {},
     "output_type": "execute_result"
    }
   ],
   "source": [
    "Delta= 0.000000001\n",
    "displaced = np.zeros(test_matrix.shape)\n",
    "displaced[:,:] = test_matrix\n",
    "displaced[np.arange(0,1), :] =displaced[np.arange(0,1), :]  + Delta\n",
    "((soft(displaced) -  soft(test_matrix)  )/Delta  ) [:,:]- \\\n",
    "( soft.gradient(test_matrix)   )[:,0,:] < 0.0000001"
   ]
  },
  {
   "cell_type": "code",
   "execution_count": 7,
   "metadata": {},
   "outputs": [
    {
     "data": {
      "text/plain": [
       "array([[ True,  True,  True],\n",
       "       [ True,  True,  True],\n",
       "       [ True,  True,  True],\n",
       "       [ True,  True,  True],\n",
       "       [ True,  True,  True]])"
      ]
     },
     "execution_count": 7,
     "metadata": {},
     "output_type": "execute_result"
    }
   ],
   "source": [
    "Delta= 0.000000001\n",
    "displaced = np.zeros(test_matrix.shape)\n",
    "displaced[:,:] = test_matrix\n",
    "displaced[np.arange(2,3), :] =displaced[np.arange(2,3), :]  + Delta\n",
    "((soft(displaced) -  soft(test_matrix)  )/Delta  ) [:,:]- \\\n",
    "( soft.gradient(test_matrix)   )[:,2,:] < 0.0000001"
   ]
  },
  {
   "cell_type": "code",
   "execution_count": 8,
   "metadata": {},
   "outputs": [],
   "source": [
    "from loss_functions import MultiClassCrossEntropy"
   ]
  },
  {
   "cell_type": "code",
   "execution_count": 9,
   "metadata": {},
   "outputs": [],
   "source": [
    "import numpy as np\n",
    "nb_classes = 5\n",
    "n_batch = 3\n",
    "targets = np.array([[0, n_batch,0]]).reshape(-1)\n",
    "one_hot_targets = np.eye(nb_classes)[targets].T\n",
    "test_AL = soft(np.random.random((nb_classes,n_batch)))"
   ]
  },
  {
   "cell_type": "code",
   "execution_count": 10,
   "metadata": {},
   "outputs": [
    {
     "data": {
      "text/plain": [
       "array([[1.56956374, 1.91164238, 1.3168633 ]])"
      ]
     },
     "execution_count": 10,
     "metadata": {},
     "output_type": "execute_result"
    }
   ],
   "source": [
    "-np.sum(one_hot_targets * np.log(test_AL) ,axis= 0,keepdims=True) "
   ]
  },
  {
   "cell_type": "code",
   "execution_count": 11,
   "metadata": {},
   "outputs": [],
   "source": [
    "multi  = MultiClassCrossEntropy()"
   ]
  },
  {
   "cell_type": "code",
   "execution_count": 12,
   "metadata": {},
   "outputs": [
    {
     "data": {
      "text/plain": [
       "array([[-0.7985358 ,  0.19148203, -0.78630696],\n",
       "       [ 0.21312395,  0.21075133,  0.1942021 ],\n",
       "       [ 0.18888502,  0.22124825,  0.21499826],\n",
       "       [ 0.19411243, -0.81059086,  0.18875719],\n",
       "       [ 0.2024144 ,  0.18710924,  0.18834941]])"
      ]
     },
     "execution_count": 12,
     "metadata": {},
     "output_type": "execute_result"
    }
   ],
   "source": [
    "final = np.sum ( soft.gradient(test_AL)* multi.gradient(one_hot_targets , soft(test_AL) ) , \n",
    "               axis=1)\n",
    "final"
   ]
  },
  {
   "cell_type": "code",
   "execution_count": 13,
   "metadata": {},
   "outputs": [
    {
     "data": {
      "text/plain": [
       "array([[1.60214358, 1.66384583, 1.5432147 ]])"
      ]
     },
     "execution_count": 13,
     "metadata": {},
     "output_type": "execute_result"
    }
   ],
   "source": [
    "multi.loss(one_hot_targets , soft(test_AL))"
   ]
  },
  {
   "cell_type": "code",
   "execution_count": 14,
   "metadata": {},
   "outputs": [],
   "source": [
    "from loss_functions import SoftmaxCrossEntropy"
   ]
  },
  {
   "cell_type": "code",
   "execution_count": 15,
   "metadata": {},
   "outputs": [
    {
     "data": {
      "text/plain": [
       "array([1.60214358, 1.66384583, 1.5432147 ])"
      ]
     },
     "execution_count": 15,
     "metadata": {},
     "output_type": "execute_result"
    }
   ],
   "source": [
    "softmulti = SoftmaxCrossEntropy()\n",
    "softmulti(one_hot_targets , test_AL)"
   ]
  },
  {
   "cell_type": "code",
   "execution_count": 16,
   "metadata": {},
   "outputs": [
    {
     "data": {
      "text/plain": [
       "array([[-0.7985358 ,  0.19148203, -0.78630696],\n",
       "       [ 0.21312395,  0.21075133,  0.1942021 ],\n",
       "       [ 0.18888502,  0.22124825,  0.21499826],\n",
       "       [ 0.19411243, -0.81059086,  0.18875719],\n",
       "       [ 0.2024144 ,  0.18710924,  0.18834941]])"
      ]
     },
     "execution_count": 16,
     "metadata": {},
     "output_type": "execute_result"
    }
   ],
   "source": [
    "softmulti.gradient(one_hot_targets , test_AL)"
   ]
  },
  {
   "cell_type": "code",
   "execution_count": null,
   "metadata": {},
   "outputs": [],
   "source": []
  },
  {
   "cell_type": "code",
   "execution_count": 17,
   "metadata": {},
   "outputs": [
    {
     "data": {
      "text/plain": [
       "array([-0.7985359 ,  0.19148194, -0.78630702])"
      ]
     },
     "execution_count": 17,
     "metadata": {},
     "output_type": "execute_result"
    }
   ],
   "source": [
    "Delta= 0.000000001\n",
    "displaced = np.zeros(test_AL.shape)\n",
    "displaced[:,:] = test_AL\n",
    "displaced[np.arange(0,1), :] = displaced[np.arange(0,1), :]  + Delta\n",
    "(softmulti(one_hot_targets , displaced) - softmulti(one_hot_targets , test_AL))/Delta"
   ]
  },
  {
   "cell_type": "code",
   "execution_count": null,
   "metadata": {},
   "outputs": [],
   "source": []
  }
 ],
 "metadata": {
  "celltoolbar": "Raw Cell Format",
  "kernelspec": {
   "display_name": "Python 3",
   "language": "python",
   "name": "python3"
  },
  "language_info": {
   "codemirror_mode": {
    "name": "ipython",
    "version": 3
   },
   "file_extension": ".py",
   "mimetype": "text/x-python",
   "name": "python",
   "nbconvert_exporter": "python",
   "pygments_lexer": "ipython3",
   "version": "3.7.1"
  }
 },
 "nbformat": 4,
 "nbformat_minor": 2
}
