{
 "cells": [
  {
   "cell_type": "code",
   "execution_count": 1,
   "metadata": {},
   "outputs": [],
   "source": [
    "import numpy as np\n",
    "from activation_functions import Softmax"
   ]
  },
  {
   "cell_type": "code",
   "execution_count": 2,
   "metadata": {},
   "outputs": [
    {
     "data": {
      "text/plain": [
       "(5, 3)"
      ]
     },
     "execution_count": 2,
     "metadata": {},
     "output_type": "execute_result"
    }
   ],
   "source": [
    "test_matrix = np.random.rand(5,3)\n",
    "test_matrix.shape"
   ]
  },
  {
   "cell_type": "code",
   "execution_count": 3,
   "metadata": {},
   "outputs": [],
   "source": [
    "soft = Softmax()"
   ]
  },
  {
   "cell_type": "code",
   "execution_count": 4,
   "metadata": {},
   "outputs": [
    {
     "data": {
      "text/plain": [
       "(array([[1., 1., 1.]]), (1, 3), True, (5, 3))"
      ]
     },
     "execution_count": 4,
     "metadata": {},
     "output_type": "execute_result"
    }
   ],
   "source": [
    "answer = soft(test_matrix) \n",
    "np.sum(answer,axis = 0, keepdims=True), np.sum(answer,axis = 0, keepdims=True).shape, \\\n",
    "(answer.shape) == test_matrix.shape, test_matrix.shape "
   ]
  },
  {
   "cell_type": "code",
   "execution_count": 5,
   "metadata": {},
   "outputs": [
    {
     "data": {
      "text/plain": [
       "(5, 5, 3)"
      ]
     },
     "execution_count": 5,
     "metadata": {},
     "output_type": "execute_result"
    }
   ],
   "source": [
    "soft.gradient(test_matrix).shape"
   ]
  },
  {
   "cell_type": "code",
   "execution_count": 6,
   "metadata": {
    "scrolled": true
   },
   "outputs": [
    {
     "data": {
      "text/plain": [
       "array([[ True,  True,  True],\n",
       "       [ True,  True,  True],\n",
       "       [ True,  True,  True],\n",
       "       [ True,  True,  True],\n",
       "       [ True,  True,  True]])"
      ]
     },
     "execution_count": 6,
     "metadata": {},
     "output_type": "execute_result"
    }
   ],
   "source": [
    "Delta= 0.000000001\n",
    "displaced = np.zeros(test_matrix.shape)\n",
    "displaced[:,:] = test_matrix\n",
    "displaced[np.arange(0,1), :] =displaced[np.arange(0,1), :]  + Delta\n",
    "((soft(displaced) -  soft(test_matrix)  )/Delta  ) [:,:]- \\\n",
    "( soft.gradient(test_matrix)   )[:,0,:] < 0.0000001"
   ]
  },
  {
   "cell_type": "code",
   "execution_count": 7,
   "metadata": {},
   "outputs": [
    {
     "data": {
      "text/plain": [
       "array([[ True,  True,  True],\n",
       "       [ True,  True,  True],\n",
       "       [ True,  True,  True],\n",
       "       [ True,  True,  True],\n",
       "       [ True,  True,  True]])"
      ]
     },
     "execution_count": 7,
     "metadata": {},
     "output_type": "execute_result"
    }
   ],
   "source": [
    "Delta= 0.000000001\n",
    "displaced = np.zeros(test_matrix.shape)\n",
    "displaced[:,:] = test_matrix\n",
    "displaced[np.arange(2,3), :] =displaced[np.arange(2,3), :]  + Delta\n",
    "((soft(displaced) -  soft(test_matrix)  )/Delta  ) [:,:]- \\\n",
    "( soft.gradient(test_matrix)   )[:,2,:] < 0.0000001"
   ]
  },
  {
   "cell_type": "code",
   "execution_count": 8,
   "metadata": {},
   "outputs": [],
   "source": [
    "from loss_functions import MultiClassCrossEntropy"
   ]
  },
  {
   "cell_type": "code",
   "execution_count": 9,
   "metadata": {},
   "outputs": [],
   "source": [
    "import numpy as np\n",
    "nb_classes = 5\n",
    "n_batch = 3\n",
    "targets = np.array([[0, n_batch,0]]).reshape(-1)\n",
    "one_hot_targets = np.eye(nb_classes)[targets].T\n",
    "test_AL = soft(np.random.random((nb_classes,n_batch)))"
   ]
  },
  {
   "cell_type": "code",
   "execution_count": 10,
   "metadata": {},
   "outputs": [
    {
     "data": {
      "text/plain": [
       "array([[1.50469337, 1.99580663, 1.32651123]])"
      ]
     },
     "execution_count": 10,
     "metadata": {},
     "output_type": "execute_result"
    }
   ],
   "source": [
    "-np.sum(one_hot_targets * np.log(test_AL) ,axis= 0,keepdims=True) "
   ]
  },
  {
   "cell_type": "code",
   "execution_count": 11,
   "metadata": {},
   "outputs": [],
   "source": [
    "multi  = MultiClassCrossEntropy()"
   ]
  },
  {
   "cell_type": "code",
   "execution_count": 12,
   "metadata": {},
   "outputs": [
    {
     "data": {
      "text/plain": [
       "array([[-0.26529512,  0.07489041, -0.26232969],\n",
       "       [ 0.06190002,  0.06222895,  0.07335135],\n",
       "       [ 0.07090575,  0.06991597,  0.06279752],\n",
       "       [ 0.07028716, -0.27097486,  0.06183378],\n",
       "       [ 0.06220218,  0.06393953,  0.06434704]])"
      ]
     },
     "execution_count": 12,
     "metadata": {},
     "output_type": "execute_result"
    }
   ],
   "source": [
    "final = np.sum( np.multiply( multi.gradient(one_hot_targets , soft(test_AL) ),soft.gradient(test_AL) , \n",
    "                           ), axis=1)\n",
    "final"
   ]
  },
  {
   "cell_type": "code",
   "execution_count": 13,
   "metadata": {
    "scrolled": true
   },
   "outputs": [
    {
     "data": {
      "text/plain": [
       "array([[0.52969114, 0.55874783, 0.51547058]])"
      ]
     },
     "execution_count": 13,
     "metadata": {},
     "output_type": "execute_result"
    }
   ],
   "source": [
    "multi.loss(one_hot_targets , soft(test_AL))"
   ]
  },
  {
   "cell_type": "code",
   "execution_count": 14,
   "metadata": {},
   "outputs": [],
   "source": [
    "from loss_functions import SoftmaxCrossEntropy"
   ]
  },
  {
   "cell_type": "code",
   "execution_count": 15,
   "metadata": {},
   "outputs": [
    {
     "data": {
      "text/plain": [
       "array([0.52969114, 0.55874783, 0.51547058])"
      ]
     },
     "execution_count": 15,
     "metadata": {},
     "output_type": "execute_result"
    }
   ],
   "source": [
    "softmulti = SoftmaxCrossEntropy()\n",
    "softmulti.loss(one_hot_targets , test_AL)"
   ]
  },
  {
   "cell_type": "code",
   "execution_count": 16,
   "metadata": {},
   "outputs": [
    {
     "data": {
      "text/plain": [
       "array([[-0.26529512,  0.07489041, -0.26232969],\n",
       "       [ 0.06190002,  0.06222895,  0.07335135],\n",
       "       [ 0.07090575,  0.06991597,  0.06279752],\n",
       "       [ 0.07028716, -0.27097486,  0.06183378],\n",
       "       [ 0.06220218,  0.06393953,  0.06434704]])"
      ]
     },
     "execution_count": 16,
     "metadata": {},
     "output_type": "execute_result"
    }
   ],
   "source": [
    "softmulti.gradient(one_hot_targets , test_AL)"
   ]
  },
  {
   "cell_type": "code",
   "execution_count": 17,
   "metadata": {},
   "outputs": [
    {
     "data": {
      "text/plain": [
       "array([-0.26529512,  0.07489032, -0.26232971])"
      ]
     },
     "execution_count": 17,
     "metadata": {},
     "output_type": "execute_result"
    }
   ],
   "source": [
    "Delta= 0.000000001\n",
    "displaced = np.zeros(test_AL.shape)\n",
    "displaced[:,:] = test_AL\n",
    "displaced[np.arange(0,1), :] = displaced[np.arange(0,1), :]  + Delta\n",
    "(softmulti.loss(one_hot_targets , displaced) - softmulti.loss(one_hot_targets , test_AL))/Delta"
   ]
  },
  {
   "cell_type": "code",
   "execution_count": 18,
   "metadata": {},
   "outputs": [],
   "source": [
    "from layers import Activation_SoftMax"
   ]
  },
  {
   "cell_type": "code",
   "execution_count": 19,
   "metadata": {},
   "outputs": [],
   "source": [
    "actsoft = Activation_SoftMax()"
   ]
  },
  {
   "cell_type": "code",
   "execution_count": 20,
   "metadata": {},
   "outputs": [
    {
     "data": {
      "text/plain": [
       "array([[0.20411465, 0.22467124, 0.21301094],\n",
       "       [0.18570006, 0.18668685, 0.22005404],\n",
       "       [0.21271725, 0.20974792, 0.18839256],\n",
       "       [0.21086149, 0.18707541, 0.18550133],\n",
       "       [0.18660655, 0.19181858, 0.19304112]])"
      ]
     },
     "execution_count": 20,
     "metadata": {},
     "output_type": "execute_result"
    }
   ],
   "source": [
    "actsoft.forward(test_AL)"
   ]
  },
  {
   "cell_type": "code",
   "execution_count": 21,
   "metadata": {},
   "outputs": [
    {
     "data": {
      "text/plain": [
       "array([[-0.26529512,  0.07489041, -0.26232969],\n",
       "       [ 0.06190002,  0.06222895,  0.07335135],\n",
       "       [ 0.07090575,  0.06991597,  0.06279752],\n",
       "       [ 0.07028716, -0.27097486,  0.06183378],\n",
       "       [ 0.06220218,  0.06393953,  0.06434704]])"
      ]
     },
     "execution_count": 21,
     "metadata": {},
     "output_type": "execute_result"
    }
   ],
   "source": [
    "actsoft.backward(multi.gradient(one_hot_targets , soft(test_AL) )) "
   ]
  },
  {
   "cell_type": "code",
   "execution_count": null,
   "metadata": {},
   "outputs": [],
   "source": []
  }
 ],
 "metadata": {
  "celltoolbar": "Raw Cell Format",
  "kernelspec": {
   "display_name": "Python 3",
   "language": "python",
   "name": "python3"
  },
  "language_info": {
   "codemirror_mode": {
    "name": "ipython",
    "version": 3
   },
   "file_extension": ".py",
   "mimetype": "text/x-python",
   "name": "python",
   "nbconvert_exporter": "python",
   "pygments_lexer": "ipython3",
   "version": "3.7.1"
  }
 },
 "nbformat": 4,
 "nbformat_minor": 2
}
